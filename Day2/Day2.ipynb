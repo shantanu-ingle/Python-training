{
 "cells": [
  {
   "cell_type": "code",
   "execution_count": null,
   "id": "d5c015aa",
   "metadata": {},
   "outputs": [],
   "source": []
  },
  {
   "cell_type": "markdown",
   "id": "f2a9d553",
   "metadata": {},
   "source": [
    "Iterator"
   ]
  },
  {
   "cell_type": "markdown",
   "id": "d30cb7d3",
   "metadata": {},
   "source": []
  },
  {
   "cell_type": "code",
   "execution_count": 1,
   "id": "58813e5c",
   "metadata": {},
   "outputs": [
    {
     "name": "stdout",
     "output_type": "stream",
     "text": [
      "10 20 30 40 "
     ]
    }
   ],
   "source": [
    "nums = [10,20,30,40]\n",
    "for n in nums:\n",
    "    print(n, end= \" \")"
   ]
  },
  {
   "cell_type": "markdown",
   "id": "edcc5901",
   "metadata": {},
   "source": [
    "Custom iterator class\n"
   ]
  },
  {
   "cell_type": "code",
   "execution_count": 7,
   "id": "c6c57013",
   "metadata": {},
   "outputs": [
    {
     "name": "stdout",
     "output_type": "stream",
     "text": [
      "12\n",
      "13\n",
      "14\n",
      "15\n",
      "16\n",
      "17\n",
      "18\n",
      "19\n",
      "20\n"
     ]
    }
   ],
   "source": [
    "class MyIterator:\n",
    "    def __init__(self,start,end):\n",
    "        self.start= start\n",
    "        self.end = end\n",
    "        self.current=  start\n",
    "    def __iter__(self):\n",
    "        return self\n",
    "    \n",
    "    def __next__(self):\n",
    "        if self.current < self.end:\n",
    "            self.current+=1\n",
    "            return self.current\n",
    "        else:\n",
    "            raise StopIteration\n",
    "for i in MyIterator(11,20):\n",
    "    print(i)"
   ]
  },
  {
   "cell_type": "markdown",
   "id": "079d7d9e",
   "metadata": {},
   "source": [
    "Random number generator to generate n number of values within given range:"
   ]
  },
  {
   "cell_type": "code",
   "execution_count": 12,
   "id": "9d337435",
   "metadata": {},
   "outputs": [
    {
     "name": "stdout",
     "output_type": "stream",
     "text": [
      "13.165384592220454 14.456031832409877 15.70475051683838 19.27374189149399 15.62533306297933 15.640000734698646 19.362347728220286 19.39180249401516 18.707628919861335 17.386026336032216 "
     ]
    }
   ],
   "source": [
    "import random\n",
    "class RandomFloatBetween:\n",
    "    def __init__(self,low, high, count):\n",
    "        self.low= low\n",
    "        self.high = high \n",
    "        self.count=  count\n",
    "        self.counter= 0\n",
    "    def __iter__(self):\n",
    "        return self\n",
    "    \n",
    "    def __next__(self):\n",
    "        if self.counter < self.count:\n",
    "            self.counter += 1\n",
    "            return random.uniform(self.low, self.high)\n",
    "        else:\n",
    "            raise StopIteration\n",
    "for i in RandomFloatBetween(low=11,high=20,count= 10):\n",
    "    print(i,end = \" \")"
   ]
  },
  {
   "cell_type": "code",
   "execution_count": null,
   "id": "c8d3ef7b",
   "metadata": {},
   "outputs": [
    {
     "name": "stdout",
     "output_type": "stream",
     "text": [
      "15.579353688699797 17.385624503508676 15.989245730206157 16.422389389864694 18.88462421926768 13.039154853712432 13.072157346734949 15.91981841620935 19.015992424155208 11.045894394377836 "
     ]
    }
   ],
   "source": [
    "from random import random , randint\n",
    "\n",
    "class RandomFloatBetween:\n",
    "    def __init__(self,low, high, count):\n",
    "        self.low= low\n",
    "        self.high = high \n",
    "        self.count=  count\n",
    "        self.counter= 0\n",
    "    def __iter__(self):\n",
    "        return self\n",
    "    def __next__(self):\n",
    "        if self.counter < self.count:\n",
    "            self.counter += 1\n",
    "            # n= random()*(self.high - self.low)+ self.low\n",
    "            n= randint(self.low, self.high -1)+ random()\n",
    "            # return random.uniform(self.low, self.high)\n",
    "            return n\n",
    "        else:\n",
    "            raise StopIteration\n",
    "for i in RandomFloatBetween(low=11,high=20,count= 10):\n",
    "    print(i,end = \" \")"
   ]
  },
  {
   "cell_type": "markdown",
   "id": "de76657c",
   "metadata": {},
   "source": [
    "Functional programming in python"
   ]
  },
  {
   "cell_type": "code",
   "execution_count": 17,
   "id": "e9db1975",
   "metadata": {},
   "outputs": [
    {
     "name": "stdout",
     "output_type": "stream",
     "text": [
      "[100, 400, 900]\n"
     ]
    }
   ],
   "source": [
    "#map is used to change every element of an iterator\n",
    "\n",
    "nums = [10,20,30]\n",
    "squares = list(map(lambda x:x**2, nums))\n",
    "print(squares)"
   ]
  },
  {
   "cell_type": "markdown",
   "id": "6296f3dc",
   "metadata": {},
   "source": [
    "Filter"
   ]
  },
  {
   "cell_type": "code",
   "execution_count": 20,
   "id": "50a2dbdd",
   "metadata": {},
   "outputs": [
    {
     "name": "stdout",
     "output_type": "stream",
     "text": [
      "[10]\n"
     ]
    }
   ],
   "source": [
    "nums = [10,11,23,35]\n",
    "evens = list(filter(lambda x: x%2==0 , nums))\n",
    "print(evens)"
   ]
  },
  {
   "cell_type": "markdown",
   "id": "23275806",
   "metadata": {},
   "source": [
    "Reduce"
   ]
  },
  {
   "cell_type": "code",
   "execution_count": 25,
   "id": "4a3620f5",
   "metadata": {},
   "outputs": [
    {
     "name": "stdout",
     "output_type": "stream",
     "text": [
      "109\n"
     ]
    }
   ],
   "source": [
    "from functools import reduce\n",
    "\n",
    "nums = [12,34,26,37]\n",
    "total = reduce(lambda x,y : x+y , nums)\n",
    "\n",
    "print(total)"
   ]
  },
  {
   "cell_type": "code",
   "execution_count": 45,
   "id": "f5011faa",
   "metadata": {},
   "outputs": [
    {
     "ename": "TypeError",
     "evalue": "'int' object is not subscriptable",
     "output_type": "error",
     "traceback": [
      "\u001b[1;31m---------------------------------------------------------------------------\u001b[0m",
      "\u001b[1;31mTypeError\u001b[0m                                 Traceback (most recent call last)",
      "Cell \u001b[1;32mIn[45], line 2\u001b[0m\n\u001b[0;32m      1\u001b[0m nums \u001b[38;5;241m=\u001b[39m [\u001b[38;5;241m5\u001b[39m,\u001b[38;5;241m3\u001b[39m,\u001b[38;5;241m5\u001b[39m,\u001b[38;5;241m9\u001b[39m,\u001b[38;5;241m2\u001b[39m,\u001b[38;5;241m4\u001b[39m]\n\u001b[1;32m----> 2\u001b[0m is_sorted \u001b[38;5;241m=\u001b[39m reduce(\u001b[38;5;28;01mlambda\u001b[39;00m x,y : x[i]\u001b[38;5;241m<\u001b[39mx[i\u001b[38;5;241m+\u001b[39m\u001b[38;5;241m1\u001b[39m] , nums)\n\u001b[0;32m      3\u001b[0m \u001b[38;5;28mprint\u001b[39m(is_sorted)\n",
      "Cell \u001b[1;32mIn[45], line 2\u001b[0m, in \u001b[0;36m<lambda>\u001b[1;34m(x, y)\u001b[0m\n\u001b[0;32m      1\u001b[0m nums \u001b[38;5;241m=\u001b[39m [\u001b[38;5;241m5\u001b[39m,\u001b[38;5;241m3\u001b[39m,\u001b[38;5;241m5\u001b[39m,\u001b[38;5;241m9\u001b[39m,\u001b[38;5;241m2\u001b[39m,\u001b[38;5;241m4\u001b[39m]\n\u001b[1;32m----> 2\u001b[0m is_sorted \u001b[38;5;241m=\u001b[39m reduce(\u001b[38;5;28;01mlambda\u001b[39;00m x,y : x[i]\u001b[38;5;241m<\u001b[39mx[i\u001b[38;5;241m+\u001b[39m\u001b[38;5;241m1\u001b[39m] , nums)\n\u001b[0;32m      3\u001b[0m \u001b[38;5;28mprint\u001b[39m(is_sorted)\n",
      "\u001b[1;31mTypeError\u001b[0m: 'int' object is not subscriptable"
     ]
    }
   ],
   "source": [
    "nums = [5,3,5,9,2,4]\n",
    "is_sorted = reduce(lambda x,y : x[i]<x[i+1] , nums)\n",
    "print(is_sorted)"
   ]
  },
  {
   "cell_type": "code",
   "execution_count": 53,
   "id": "50d6675b",
   "metadata": {},
   "outputs": [
    {
     "name": "stdout",
     "output_type": "stream",
     "text": [
      "False\n"
     ]
    }
   ],
   "source": [
    "from functools import reduce\n",
    "\n",
    "nums = [1,2,45,3,4]\n",
    "is_sorted = reduce(lambda acc, pair: acc and pair[0] <= pair[1], zip(nums, nums[1:]))\n",
    "print(is_sorted)"
   ]
  },
  {
   "cell_type": "code",
   "execution_count": 57,
   "id": "7667d716",
   "metadata": {},
   "outputs": [
    {
     "name": "stdout",
     "output_type": "stream",
     "text": [
      "False\n"
     ]
    }
   ],
   "source": [
    "nums = [1,2,45,3,4]\n",
    "is_sorted = reduce(lambda x,y: (y,x[1] and y>x[0]) if type(x)==tuple else (y,y>x), nums)[1]\n",
    "print(is_sorted)"
   ]
  },
  {
   "cell_type": "markdown",
   "id": "b13fa77c",
   "metadata": {},
   "source": [
    "Find the average of a number of a list using reduce\n"
   ]
  },
  {
   "cell_type": "code",
   "execution_count": 58,
   "id": "baa40048",
   "metadata": {},
   "outputs": [
    {
     "name": "stdout",
     "output_type": "stream",
     "text": [
      "11.0\n"
     ]
    }
   ],
   "source": [
    "nums = [1,2,45,3,4]\n",
    "avg = reduce(lambda x,y: x+y, nums)/len(nums)\n",
    "print(avg)"
   ]
  },
  {
   "cell_type": "markdown",
   "id": "412bada4",
   "metadata": {},
   "source": [
    "Modes: r,w,a,r+,w+,a+"
   ]
  },
  {
   "cell_type": "code",
   "execution_count": null,
   "id": "5c406a3c",
   "metadata": {},
   "outputs": [],
   "source": [
    "with open(\"abcd.txt\",\"w\") as f:\n",
    "    \n",
    "    f.write(\"This is sample line 1 \\n\")\n",
    "    f.write(\"this is sample line 2\\n\")"
   ]
  },
  {
   "cell_type": "code",
   "execution_count": null,
   "id": "251a599e",
   "metadata": {},
   "outputs": [
    {
     "name": "stdout",
     "output_type": "stream",
     "text": [
      "This is sample line 1 \n",
      "this is sample line 2\n",
      "\n"
     ]
    }
   ],
   "source": [
    "with open(\"abcd.txt\",\"r\") as f: #throws error if the file does not exist\n",
    "    data = f.read()\n",
    "    print(data)"
   ]
  },
  {
   "cell_type": "code",
   "execution_count": 63,
   "id": "0559bde0",
   "metadata": {},
   "outputs": [],
   "source": [
    "with open(\"abcd.txt\",\"a\") as f:\n",
    "    \n",
    "    f.write(\"This is new sample line 1 \\n\")\n",
    "    f.write(\"this is new sample line 2\\n\")"
   ]
  },
  {
   "cell_type": "code",
   "execution_count": null,
   "id": "a206158f",
   "metadata": {},
   "outputs": [
    {
     "name": "stdout",
     "output_type": "stream",
     "text": [
      "This is sample line 1 \n",
      "this is sample line 2\n",
      "This is new sample line 1 \n",
      "this is new sample line 2\n",
      "\n"
     ]
    }
   ],
   "source": [
    "with open(\"abcd.txt\",\"r\") as f: \n",
    "    data = f.read()\n",
    "    print(data)"
   ]
  },
  {
   "cell_type": "code",
   "execution_count": 69,
   "id": "965b5656",
   "metadata": {},
   "outputs": [
    {
     "name": "stdout",
     "output_type": "stream",
     "text": [
      "\n",
      "mple line 1 \n",
      "this is sample line 2\n",
      "This is new sample line 1 \n",
      "this is new sample line 2\n"
     ]
    }
   ],
   "source": [
    "with open(\"abcd.txt\",'r') as f:\n",
    "    f.seek(10)\n",
    "    lines = f.readlines()\n",
    "    print(data)\n",
    "    for line in lines:\n",
    "        print(line, end=\"\")"
   ]
  },
  {
   "cell_type": "code",
   "execution_count": null,
   "id": "4699c202",
   "metadata": {},
   "outputs": [
    {
     "name": "stdout",
     "output_type": "stream",
     "text": [
      "This is sample line 1 \n",
      "\n",
      "this is sample line 2\n",
      "\n",
      "\n"
     ]
    }
   ],
   "source": [
    "with open(\"abcd.txt\", \"r+\") as f:\n",
    "    \n",
    "    print(f.readline())\n",
    "    print(f.readline())\n",
    "    f.write(\"Heloo\") #write data at the end of the file\n",
    "    print(f.read()) #empty becuase the file pointer is at the last position\n",
    "    "
   ]
  },
  {
   "cell_type": "code",
   "execution_count": 82,
   "id": "a1674073",
   "metadata": {},
   "outputs": [
    {
     "name": "stdout",
     "output_type": "stream",
     "text": [
      "##first 2 lines\n",
      "\n",
      "\n",
      "All remaining content\n",
      "\n",
      "\n",
      "write a line in w+ mode\n",
      "\n",
      "write a line in w+ mode\n",
      "@@@@\n"
     ]
    }
   ],
   "source": [
    "with open(\"abcd.txt\",\"w+\") as f:\n",
    "    print(\"##first 2 lines\")\n",
    "    print(f.readline())\n",
    "    print(f.readline())\n",
    "    print(\"All remaining content\")\n",
    "    print(f.read())\n",
    "\n",
    "    f.write(\"write a line in w+ mode\\n\") #write data at the end of the file\n",
    "    print(f.read())#blank output, since the file pointer f was at the end after write\n",
    "    f.seek(0)\n",
    "    print(f.read())# all file content\n",
    "    f.write(\"@@@@\")\n",
    "    f.seek(0)\n",
    "    print(f.read()) #all file contents"
   ]
  },
  {
   "cell_type": "code",
   "execution_count": 84,
   "id": "20658741",
   "metadata": {},
   "outputs": [
    {
     "name": "stdout",
     "output_type": "stream",
     "text": [
      "##first 2 lines\n",
      "write a line in w+ mode\n",
      "\n",
      "@@@@write a line in w+ mode\n",
      "\n",
      "All remaining content\n",
      "@@@@\n",
      "\n"
     ]
    }
   ],
   "source": [
    "with open(\"abcd.txt\",\"a+\") as f:\n",
    "    f.seek(0) #by default file pointer is at end in append\n",
    "    print(\"##first 2 lines\")\n",
    "    print(f.readline())\n",
    "    print(f.readline())\n",
    "    print(\"All remaining content\")\n",
    "    print(f.read())\n",
    "\n",
    "    f.write(\"write a line in w+ mode\\n\") #write data at the end of the file\n",
    "    print(f.read())#blank output, since the file pointer f was at the end after write\n",
    "  "
   ]
  },
  {
   "cell_type": "code",
   "execution_count": null,
   "id": "48c59ef7",
   "metadata": {},
   "outputs": [],
   "source": []
  }
 ],
 "metadata": {
  "kernelspec": {
   "display_name": "base",
   "language": "python",
   "name": "python3"
  },
  "language_info": {
   "codemirror_mode": {
    "name": "ipython",
    "version": 3
   },
   "file_extension": ".py",
   "mimetype": "text/x-python",
   "name": "python",
   "nbconvert_exporter": "python",
   "pygments_lexer": "ipython3",
   "version": "3.12.3"
  }
 },
 "nbformat": 4,
 "nbformat_minor": 5
}
